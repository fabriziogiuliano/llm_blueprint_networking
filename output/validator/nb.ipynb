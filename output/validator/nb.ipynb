{
 "cells": [
  {
   "cell_type": "code",
   "execution_count": 27,
   "metadata": {},
   "outputs": [
    {
     "name": "stdout",
     "output_type": "stream",
     "text": [
      "215\n",
      "[REAL] 001-smart_agriculture 30\n",
      "[REAL] 002-smart_agriculture 30\n",
      "[REAL] 003-smart_agriculture 30\n",
      "[REAL] 001-smart_city 30\n",
      "[REAL] 002-smart_city 30\n",
      "[REAL] 003-smart_city 30\n",
      "[REAL] 001-smart_home 30\n",
      "[REAL] 002-smart_home 30\n",
      "[REAL] 003-smart_home 30\n",
      "270\n",
      "[SIM ]001-smart_agriculture 24\n",
      "[SIM ]002-smart_agriculture 24\n",
      "[SIM ]003-smart_agriculture 24\n",
      "[SIM ]001-smart_city 24\n",
      "[SIM ]002-smart_city 23\n",
      "[SIM ]003-smart_city 24\n",
      "[SIM ]001-smart_home 24\n",
      "[SIM ]002-smart_home 24\n",
      "[SIM ]003-smart_home 24\n"
     ]
    }
   ],
   "source": [
    "import pandas as pd\n",
    "import os\n",
    "import sys\n",
    "df_real = pd.read_pickle(\"real-think-results.pkl\")\n",
    "df_sim = pd.read_pickle(\"simulated-1.0-ns3-think-results.pkl\")\n",
    "\n",
    "print(len(df_real))\n",
    "for scenario in [\"smart_agriculture\",\"smart_city\",\"smart_home\"]:\n",
    "    for i in range(1,4):\n",
    "        print(f\"[REAL] 00{i}-{scenario}\",len(df_sim[df_sim[\"scenario\"]==f\"00{i}-{scenario}\"]))\n",
    "        \n",
    "print(len(df_sim))\n",
    "for scenario in [\"smart_agriculture\",\"smart_city\",\"smart_home\"]:\n",
    "    for i in range(1,4):\n",
    "        print(f\"[SIM ]00{i}-{scenario}\",len(df_real[df_real[\"scenario\"]==f\"00{i}-{scenario}\"]))\n",
    "\n",
    "#df_real=df_real[df_real[\"scenario\"]==\"002-smart_home\"]"
   ]
  },
  {
   "cell_type": "code",
   "execution_count": null,
   "metadata": {},
   "outputs": [],
   "source": []
  },
  {
   "cell_type": "code",
   "execution_count": 156,
   "metadata": {},
   "outputs": [],
   "source": [
    "df_sim=df_sim[0:269]\n"
   ]
  },
  {
   "cell_type": "code",
   "execution_count": 51,
   "metadata": {},
   "outputs": [
    {
     "name": "stdout",
     "output_type": "stream",
     "text": [
      "n_exp 3 len_scenarios 3 len_model_names 6 n_features_sim 5\n",
      "270\n",
      "n_exp 3 len_scenarios 3 len_model_names 6 n_features_sim 4\n",
      "216\n"
     ]
    }
   ],
   "source": [
    "model_names_all=[\n",
    "            {\"name\":\"codestral-2501\",\"size\":\"large\"}, #{\"name\":\"mistralai/Mamba-Codestral-7B-v0.1\",\"size\":\"small\"},\n",
    "            {\"name\":\"google/codegemma-7b-it\",\"size\":\"small\"},\n",
    "            {\"name\":\"codellama/CodeLlama-7b-Instruct-hf\",\"size\":\"small\"},\n",
    "            {\"name\":\"mistral-large-2411\",\"size\":\"large\"},\n",
    "            {\"name\":\"gemini-exp-1206\",\"size\":\"large\"},\n",
    "            {\"name\":\"gemini-2.0-flash-exp\",\"size\":\"large\"}\n",
    "        ]\n",
    "    \n",
    "model_name_understanding={\"name\":\"gemini-2.0-flash-exp\",\"size\":\"large\"}\n",
    "#model_name_understanding={\"name\":\"gemini-2.0-flash-thinking-exp-01-21\",\"size\":\"large\"}\n",
    "\n",
    "#model_name_understanding={\"name\":\"gemini-exp-1206\",\"size\":\"large\"}\n",
    "\n",
    "model_names=model_names_all\n",
    "scenarios = [\"smart_agriculture\",\"smart_city\",\"smart_home\"]\n",
    "n_exp=len(range(1,4))\n",
    "n_features_sim=5\n",
    "print(\"n_exp\",n_exp,\"len_scenarios\",len(scenarios),\"len_model_names\",len(model_names),\"n_features_sim\",n_features_sim)\n",
    "print(n_exp*len(scenarios)*len(model_names)*n_features_sim)\n",
    "print(\"n_exp\",n_exp,\"len_scenarios\",len(scenarios),\"len_model_names\",len(model_names),\"n_features_sim\",n_features_real)\n",
    "print(n_exp*len(scenarios)*len(model_names)*n_features_real)\n"
   ]
  }
 ],
 "metadata": {
  "kernelspec": {
   "display_name": ".venv",
   "language": "python",
   "name": "python3"
  },
  "language_info": {
   "codemirror_mode": {
    "name": "ipython",
    "version": 3
   },
   "file_extension": ".py",
   "mimetype": "text/x-python",
   "name": "python",
   "nbconvert_exporter": "python",
   "pygments_lexer": "ipython3",
   "version": "3.10.12"
  }
 },
 "nbformat": 4,
 "nbformat_minor": 2
}
